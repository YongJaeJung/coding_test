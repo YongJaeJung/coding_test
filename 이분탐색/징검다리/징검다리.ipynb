{
 "cells": [
  {
   "cell_type": "code",
   "execution_count": 87,
   "id": "e794ddc3",
   "metadata": {
    "ExecuteTime": {
     "end_time": "2021-12-04T13:03:55.463240Z",
     "start_time": "2021-12-04T13:03:55.447243Z"
    }
   },
   "outputs": [
    {
     "data": {
      "text/plain": [
       "4"
      ]
     },
     "execution_count": 87,
     "metadata": {},
     "output_type": "execute_result"
    }
   ],
   "source": [
    "import numpy as np\n",
    "import math\n",
    "\n",
    "# 데이터\n",
    "distance = 25\n",
    "rocks = [2,14,11,21,17]\n",
    "\n",
    "# 도착지점과 마지막 징검다리간의 거리를 구하기 위해 데이터 삽입\n",
    "rocks.append(distance)\n",
    "\n",
    "# 뺄 징검다리 갯수\n",
    "n = 2\n",
    "\n",
    "def solution(distance, rocks, n):\n",
    "    \n",
    "    # 정답변수 초기화\n",
    "    answer = 0\n",
    "    \n",
    "    # 순서대로 돌을 정렬 why? 징검다리는 순서대로 놓여저 있고, for문을 통해 이전 징검다리들과의 거리를 구할것이기 때문에\n",
    "    sorted_rocks = sorted(rocks)\n",
    "    \n",
    "    # 최소값으로 left 초기화\n",
    "    left = 0\n",
    "    \n",
    "    # 최대값으로 right 초기화\n",
    "    right = distance\n",
    "    \n",
    "    # 서로만날때 까지\n",
    "    while left <= right:\n",
    "        \n",
    "        # 남겨진 징검다리 중 가장 큰것을 저장 할 변수\n",
    "        prev = 0\n",
    "        \n",
    "        # 남은 징검다리사이 거리의 최소값\n",
    "        min_rock = math.inf\n",
    "        \n",
    "        # 제거한 징검다리 수 left와 right를 갱신시켜줄 중요변수, n과 비교\n",
    "        removed_rocks=0\n",
    "        \n",
    "        # 이분탐색의 중심! left  right가 바뀔때마다 갱신, mid값이 징검다리 간의 간격의 최소값이라고 정하는 부분\n",
    "        mid = (left+right) // 2\n",
    "        \n",
    "                \n",
    "        for i in range(len(sorted_rocks)):\n",
    "            # mid보다 징검다리 사이가 짧다면, 최소값이 mid가 될수 없으므로 삭제해줘야 함.\n",
    "            if sorted_rocks[i] - prev < mid:\n",
    "                removed_rocks += 1\n",
    "                \n",
    "            # 징검다리 사이가 mid보다 크다면 징검다리의 시작점을 갱신\n",
    "            else:\n",
    "                min_rock = min(min_rock,sorted_rocks[i]-prev)\n",
    "                prev = sorted_rocks[i]\n",
    "        \n",
    "        # 삭제한 돌이 너무 많으면 mid가 너무 큰것\n",
    "        if removed_rocks > n:\n",
    "            right = mid-1\n",
    "        \n",
    "        # 삭제한 돌이 너무 적으면 mid가 너무 작은것\n",
    "        else:\n",
    "            answer = min_rock\n",
    "            left = mid+1\n",
    "                \n",
    "    \n",
    "    return answer\n",
    "\n",
    "solution(distance, rocks, n)"
   ]
  }
 ],
 "metadata": {
  "kernelspec": {
   "display_name": "Python 3 (ipykernel)",
   "language": "python",
   "name": "python3"
  },
  "language_info": {
   "codemirror_mode": {
    "name": "ipython",
    "version": 3
   },
   "file_extension": ".py",
   "mimetype": "text/x-python",
   "name": "python",
   "nbconvert_exporter": "python",
   "pygments_lexer": "ipython3",
   "version": "3.9.7"
  },
  "toc": {
   "base_numbering": 1,
   "nav_menu": {},
   "number_sections": true,
   "sideBar": true,
   "skip_h1_title": false,
   "title_cell": "Table of Contents",
   "title_sidebar": "Contents",
   "toc_cell": false,
   "toc_position": {},
   "toc_section_display": true,
   "toc_window_display": false
  },
  "varInspector": {
   "cols": {
    "lenName": 16,
    "lenType": 16,
    "lenVar": 40
   },
   "kernels_config": {
    "python": {
     "delete_cmd_postfix": "",
     "delete_cmd_prefix": "del ",
     "library": "var_list.py",
     "varRefreshCmd": "print(var_dic_list())"
    },
    "r": {
     "delete_cmd_postfix": ") ",
     "delete_cmd_prefix": "rm(",
     "library": "var_list.r",
     "varRefreshCmd": "cat(var_dic_list()) "
    }
   },
   "types_to_exclude": [
    "module",
    "function",
    "builtin_function_or_method",
    "instance",
    "_Feature"
   ],
   "window_display": false
  }
 },
 "nbformat": 4,
 "nbformat_minor": 5
}
