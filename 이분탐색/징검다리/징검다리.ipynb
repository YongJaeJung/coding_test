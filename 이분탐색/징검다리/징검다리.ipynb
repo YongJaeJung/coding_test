{
 "cells": [
  {
   "cell_type": "code",
   "execution_count": 87,
   "id": "e794ddc3",
   "metadata": {
    "ExecuteTime": {
     "end_time": "2021-12-04T13:03:55.463240Z",
     "start_time": "2021-12-04T13:03:55.447243Z"
    }
   },
   "outputs": [
    {
     "data": {
      "text/plain": [
       "4"
      ]
     },
     "execution_count": 87,
     "metadata": {},
     "output_type": "execute_result"
    }
   ],
   "source": [
    "import numpy as np\n",
    "import math\n",
    "\n",
    "# \n",
    "distance = 25\n",
    "rocks = [2,14,11,21,17]\n",
    "rocks.append(distance)\n",
    "n = 2\n",
    "\n",
    "\n",
    "def solution(distance, rocks, n):\n",
    "    answer = 0\n",
    "    sorted_rocks = sorted(rocks)\n",
    "    left = 0\n",
    "    right = distance\n",
    "\n",
    "    while left <= right:\n",
    "        \n",
    "        prev = 0\n",
    "        \n",
    "        min_rock = math.inf\n",
    "        \n",
    "        removed_rocks=0\n",
    "        \n",
    "        mid = (left+right) // 2\n",
    "        \n",
    "        for i in range(len(sorted_rocks)):\n",
    "            if sorted_rocks[i] - prev < mid:\n",
    "                removed_rocks += 1\n",
    "            else:\n",
    "                min_rock = min(min_rock,sorted_rocks[i]-prev)\n",
    "                prev = sorted_rocks[i]\n",
    "                \n",
    "        if removed_rocks > n:\n",
    "            right = mid-1\n",
    "                \n",
    "        else:\n",
    "            answer = min_rock\n",
    "            left = mid+1\n",
    "                \n",
    "    \n",
    "    return answer\n",
    "\n",
    "solution(distance, rocks, n)"
   ]
  }
 ],
 "metadata": {
  "kernelspec": {
   "display_name": "Python 3 (ipykernel)",
   "language": "python",
   "name": "python3"
  },
  "language_info": {
   "codemirror_mode": {
    "name": "ipython",
    "version": 3
   },
   "file_extension": ".py",
   "mimetype": "text/x-python",
   "name": "python",
   "nbconvert_exporter": "python",
   "pygments_lexer": "ipython3",
   "version": "3.9.7"
  },
  "toc": {
   "base_numbering": 1,
   "nav_menu": {},
   "number_sections": true,
   "sideBar": true,
   "skip_h1_title": false,
   "title_cell": "Table of Contents",
   "title_sidebar": "Contents",
   "toc_cell": false,
   "toc_position": {},
   "toc_section_display": true,
   "toc_window_display": false
  },
  "varInspector": {
   "cols": {
    "lenName": 16,
    "lenType": 16,
    "lenVar": 40
   },
   "kernels_config": {
    "python": {
     "delete_cmd_postfix": "",
     "delete_cmd_prefix": "del ",
     "library": "var_list.py",
     "varRefreshCmd": "print(var_dic_list())"
    },
    "r": {
     "delete_cmd_postfix": ") ",
     "delete_cmd_prefix": "rm(",
     "library": "var_list.r",
     "varRefreshCmd": "cat(var_dic_list()) "
    }
   },
   "types_to_exclude": [
    "module",
    "function",
    "builtin_function_or_method",
    "instance",
    "_Feature"
   ],
   "window_display": false
  }
 },
 "nbformat": 4,
 "nbformat_minor": 5
}
