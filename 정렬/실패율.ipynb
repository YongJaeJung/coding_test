{
 "cells": [
  {
   "cell_type": "markdown",
   "id": "561ec06b",
   "metadata": {},
   "source": [
    "https://programmers.co.kr/learn/courses/30/lessons/42889?language=python3"
   ]
  },
  {
   "cell_type": "markdown",
   "id": "0d29e9fa",
   "metadata": {},
   "source": [
    "이 문제를 어떻게 할까 고민 한 그녀는 동적으로 게임 시간을 늘려서 난이도를 조절하기로 했다. 역시 슈퍼 개발자라 대부분의 로직은 쉽게 구현했지만, 실패율을 구하는 부분에서 위기에 빠지고 말았다. 오렐리를 위해 실패율을 구하는 코드를 완성하라.\n",
    "\n",
    "`실패율은 다음과 같이 정의한다`\n",
    "\n",
    "- 스테이지에 도달을 했으나, 아직 클리어하지 못한 플레이어의 수 / 스테이지에 도달한 플레이어의 수\n",
    "\n",
    "$$\\frac{스테이지에 도달 but 아직 클리어하지 못한 플레이어}{스테이지에 도달한 플레이어의 수}$$\n",
    "\n",
    "전체 스테이지의 개수 N, 게임을 이용하는 사용자가 현재 멈춰있는 스테이지의 번호가 담긴 배열 stages가 매개변수로( my check : 이 길이가 플레이어의 수에 영향을 받은 것이고, 각 플레이어들이 지금 어느 단계에 있는지를 나타내고 있는 부분 → 위의 정의를 보고 이 문장에 의미를 정확히 캐치해야 한다.!!!!!) 주어질 때, 실패율이 높은 스테이지부터 내림차순으로 스테이지의 번호가 담겨있는 배열을 return 하도록 solution 함수를 완성하라.\n",
    "\n",
    "`제한사항`\n",
    "\n",
    "- 스테이지의 개수N : 1≤ N ≤ 100  인 자연수\n",
    "- stages의 길이는 1≤length  stages ≤ 200,000  : 플레이어의 수가 최대 20000명이라는 의미임!!!\n",
    "- stages에는 1 ~ N+1\n",
    "    - 각 자연수는 사용자가 현재 도전 중인 스테이지의 번호를 나타냄\n",
    "    - N+1은 마지막 스테이지(N번째 스테이지ㅣ)까지 클리어한 사용자를 나타냄!\n",
    "\n",
    "→ 이 부분에 대한 이해는 결국에는 그 스테이지의 번호를 넘어가야 클리어함!!!\n",
    "\n",
    "→ 그 이유는 1단계라면 2부터가 클리어함!!!!즉, 1이면 클리어 못 함!!!\n",
    "\n",
    "- 만약 실패율이 같은 스테이지가 있다면 작은 번호의 스테이지가 먼저 오도록 하면 된다.\n",
    "- 스테이지에 도달한 유저가 없는 경우 해당 스테이지의 실패율은 `0` 으로 정의한다.\n",
    "\n",
    "![Untitled](https://s3-us-west-2.amazonaws.com/secure.notion-static.com/7db3b71c-a889-4595-a83a-e131e1472211/Untitled.png)\n",
    "\n",
    "### 입출력 예 설명\n",
    "\n",
    "입출력 예 #1\n",
    "1번 스테이지에는 총 8명의 사용자가 도전했으며, 이 중 1명의 사용자가 아직 클리어하지 못했다. 따라서 1번 스테이지의 실패율은 다음과 같다.\n",
    "\n",
    "- 1 번 스테이지 실패율 : 1/8\n",
    "\n",
    "2번 스테이지에는 총 7명의 사용자가 도전했으며, 이 중 3명의 사용자가 아직 클리어하지 못했다. 따라서 2번 스테이지의 실패율은 다음과 같다.\n",
    "\n",
    "- 2 번 스테이지 실패율 : 3/7\n",
    "\n",
    "마찬가지로 나머지 스테이지의 실패율은 다음과 같다.\n",
    "\n",
    "- 3 번 스테이지 실패율 : 2/4\n",
    "- 4번 스테이지 실패율 : 1/2\n",
    "- 5번 스테이지 실패율 : 0/1\n",
    "\n",
    "각 스테이지의 번호를 실패율의 내림차순으로 정렬하면 다음과 같다.\n",
    "\n",
    "- [3,4,2,1,5]\n",
    "\n",
    "입출력 예 #2\n",
    "\n",
    "모든 사용자가 마지막 스테이지에 있으므로 4번 스테이지의 실패율은 1이며 나머지 스테이지의 실패율은 0이다.\n",
    "\n",
    "- [4,1,2,3]"
   ]
  },
  {
   "cell_type": "code",
   "execution_count": 1,
   "id": "1a524b89",
   "metadata": {
    "ExecuteTime": {
     "end_time": "2021-12-23T12:56:05.784161Z",
     "start_time": "2021-12-23T12:56:05.761161Z"
    }
   },
   "outputs": [
    {
     "data": {
      "text/plain": [
       "[3, 4, 2, 1, 5]"
      ]
     },
     "execution_count": 1,
     "metadata": {},
     "output_type": "execute_result"
    }
   ],
   "source": [
    "N = 5\n",
    "stages = [2, 1, 2, 6, 2, 4, 3, 3]\n",
    "\n",
    "def solution(N, stages):\n",
    "    answer = []\n",
    "    \n",
    "    participant = {}\n",
    "    pass_or_not = {}\n",
    "    \n",
    "    sorted_stages = sorted(stages,reverse=True)\n",
    "    \n",
    "    for num in range(N,0,-1):\n",
    "        temp = []\n",
    "        for stages in sorted_stages:            \n",
    "            if stages >= num:\n",
    "                temp.append(stages)\n",
    "            elif stages < num:\n",
    "                break\n",
    "        participant[num] = temp\n",
    "                    \n",
    "    \n",
    "    for k,v in participant.items():\n",
    "        pass_or_not[k] = (len([pass_man for pass_man in v if pass_man<=k]),len([pass_man for pass_man in v if pass_man>=k]))\n",
    "        \n",
    "    answer = sorted(pass_or_not.items(),key = lambda x : (x[1][0]/x[1][1],x[1][1],-x[0]) if x[1][1]>0 else (0,0),reverse=True)\n",
    "    \n",
    "    return [x[0] for x in answer]\n",
    "\n",
    "solution(N, stages)"
   ]
  }
 ],
 "metadata": {
  "kernelspec": {
   "display_name": "Python 3 (ipykernel)",
   "language": "python",
   "name": "python3"
  },
  "language_info": {
   "codemirror_mode": {
    "name": "ipython",
    "version": 3
   },
   "file_extension": ".py",
   "mimetype": "text/x-python",
   "name": "python",
   "nbconvert_exporter": "python",
   "pygments_lexer": "ipython3",
   "version": "3.9.7"
  },
  "toc": {
   "base_numbering": 1,
   "nav_menu": {},
   "number_sections": true,
   "sideBar": true,
   "skip_h1_title": false,
   "title_cell": "Table of Contents",
   "title_sidebar": "Contents",
   "toc_cell": false,
   "toc_position": {},
   "toc_section_display": true,
   "toc_window_display": false
  },
  "varInspector": {
   "cols": {
    "lenName": 16,
    "lenType": 16,
    "lenVar": 40
   },
   "kernels_config": {
    "python": {
     "delete_cmd_postfix": "",
     "delete_cmd_prefix": "del ",
     "library": "var_list.py",
     "varRefreshCmd": "print(var_dic_list())"
    },
    "r": {
     "delete_cmd_postfix": ") ",
     "delete_cmd_prefix": "rm(",
     "library": "var_list.r",
     "varRefreshCmd": "cat(var_dic_list()) "
    }
   },
   "types_to_exclude": [
    "module",
    "function",
    "builtin_function_or_method",
    "instance",
    "_Feature"
   ],
   "window_display": false
  }
 },
 "nbformat": 4,
 "nbformat_minor": 5
}
