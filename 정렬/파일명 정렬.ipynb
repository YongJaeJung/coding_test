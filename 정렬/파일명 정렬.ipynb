{
 "cells": [
  {
   "cell_type": "markdown",
   "id": "d334254d",
   "metadata": {},
   "source": [
    "https://programmers.co.kr/learn/courses/30/lessons/17686?language=python3"
   ]
  },
  {
   "cell_type": "code",
   "execution_count": 2,
   "id": "16943ac6",
   "metadata": {
    "ExecuteTime": {
     "end_time": "2021-12-12T11:05:58.098613Z",
     "start_time": "2021-12-12T11:05:58.084615Z"
    }
   },
   "outputs": [
    {
     "name": "stdout",
     "output_type": "stream",
     "text": [
      "['A-10 Thunderbolt II', 'B-50 Superfortress', 'F-5 Freedom Fighter', 'F-14 Tomcat']\n"
     ]
    }
   ],
   "source": [
    "import re\n",
    "\n",
    "\n",
    "#file_name = [\"img12.png\", \"img10.png\", \"img02.png\", \"img1.png\", \"IMG01.GIF\", \"img2.JPG\"]\n",
    "file_name = [\"F-5 Freedom Fighter\", \"B-50 Superfortress\", \"A-10 Thunderbolt II\", \"F-14 Tomcat\"]\n",
    "\n",
    "# 숫자가 아닌 문자로 시작하는 단어를 규칙이 어긋날때 까지 찾는 정규표현식\n",
    "str_re = re.compile('^[\\D]+')\n",
    "\n",
    "# 숫자인 문자열 찾는 정규표현식\n",
    "number_re = re.compile('[\\d]+')\n",
    "\n",
    "name_list = {}\n",
    "\n",
    "# 매 파일 이름을 돌며\n",
    "for i,name in enumerate(file_name):\n",
    "    \n",
    "    # 문자를 찾고\n",
    "    strings = str_re.findall(name)\n",
    "    \n",
    "    # 숫자를 찾고\n",
    "    numbers = number_re.findall(name)\n",
    "    \n",
    "    # head는 대소문자를 구분하지 않고 입력된 순서대로 넣는다고 했으니 전부 소문자로 변경하여 형태를 맞춰줌\n",
    "    head = strings[0].lower()\n",
    "    \n",
    "    # 숫자가 검출된 리스트의 첫번째 값만 number가 됨\n",
    "    number = numbers[0]\n",
    "    \n",
    "    # 나머지 부분은 모두 tail이 됨, 소문자로 형태 통일\n",
    "    tail = name[len(head)+len(number):].lower()\n",
    "    \n",
    "    # name_list라는 딕셔너리에 index를 키로하고 (head,number,tail) 튜플을 값으로 대응시킴\n",
    "    name_list[i] = (head,int(number),tail)\n",
    "\n",
    "answer = []\n",
    "\n",
    "# head 순으로 오름차순 정렬하고, head가 같으면 number 순으로 오름차순 정렬\n",
    "for index,value in sorted(name_list.items(),key=lambda x :(x[1][0],x[1][1])):\n",
    "    answer.append(file_name[index])\n",
    "\n",
    "print(answer)"
   ]
  }
 ],
 "metadata": {
  "kernelspec": {
   "display_name": "Python 3 (ipykernel)",
   "language": "python",
   "name": "python3"
  },
  "language_info": {
   "codemirror_mode": {
    "name": "ipython",
    "version": 3
   },
   "file_extension": ".py",
   "mimetype": "text/x-python",
   "name": "python",
   "nbconvert_exporter": "python",
   "pygments_lexer": "ipython3",
   "version": "3.9.7"
  },
  "toc": {
   "base_numbering": 1,
   "nav_menu": {},
   "number_sections": true,
   "sideBar": true,
   "skip_h1_title": false,
   "title_cell": "Table of Contents",
   "title_sidebar": "Contents",
   "toc_cell": false,
   "toc_position": {},
   "toc_section_display": true,
   "toc_window_display": false
  },
  "varInspector": {
   "cols": {
    "lenName": 16,
    "lenType": 16,
    "lenVar": 40
   },
   "kernels_config": {
    "python": {
     "delete_cmd_postfix": "",
     "delete_cmd_prefix": "del ",
     "library": "var_list.py",
     "varRefreshCmd": "print(var_dic_list())"
    },
    "r": {
     "delete_cmd_postfix": ") ",
     "delete_cmd_prefix": "rm(",
     "library": "var_list.r",
     "varRefreshCmd": "cat(var_dic_list()) "
    }
   },
   "types_to_exclude": [
    "module",
    "function",
    "builtin_function_or_method",
    "instance",
    "_Feature"
   ],
   "window_display": false
  }
 },
 "nbformat": 4,
 "nbformat_minor": 5
}
